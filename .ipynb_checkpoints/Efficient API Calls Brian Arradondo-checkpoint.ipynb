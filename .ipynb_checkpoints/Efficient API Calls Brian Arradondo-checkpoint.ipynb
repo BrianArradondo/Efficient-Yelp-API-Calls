{
 "cells": [
  {
   "cell_type": "code",
   "execution_count": 2,
   "id": "2c50f355",
   "metadata": {},
   "outputs": [
    {
     "name": "stdout",
     "output_type": "stream",
     "text": [
      "Requirement already satisfied: tqdm in c:\\users\\obsid\\anaconda3\\envs\\dojo-env\\lib\\site-packages (4.64.1)\n",
      "Requirement already satisfied: colorama in c:\\users\\obsid\\anaconda3\\envs\\dojo-env\\lib\\site-packages (from tqdm) (0.4.5)\n"
     ]
    }
   ],
   "source": [
    "# Standard Imports\n",
    "import numpy as np\n",
    "import pandas as pd\n",
    "import matplotlib.pyplot as plt\n",
    "import seaborn as sns\n",
    "# Additional Imports\n",
    "import os, json, math, time\n",
    "from yelpapi import YelpAPI\n",
    "from tqdm.notebook import tqdm_notebook\n",
    "# Install tmdbsimple (only need to run once)\n",
    "!pip install tqdm"
   ]
  },
  {
   "cell_type": "code",
   "execution_count": 3,
   "id": "716cd78f",
   "metadata": {},
   "outputs": [],
   "source": [
    "# Load API Credentials\n",
    "with open('/Users/obsid/.secret/yelp_api.json') as f:   #use your path here!\n",
    "    login = json.load(f)\n",
    "# Instantiate YelpAPI Variable\n",
    "yelp_api = YelpAPI(login['API-Key'], timeout_s=5.0)\n"
   ]
  },
  {
   "cell_type": "code",
   "execution_count": 5,
   "id": "cf3cd7fa",
   "metadata": {},
   "outputs": [],
   "source": [
    "# set our API call parameters \n",
    "LOCATION = 'Chicago,IL'\n",
    "TERM = 'Deep Dish Pizza'\n"
   ]
  },
  {
   "cell_type": "code",
   "execution_count": 6,
   "id": "82bc5c3a",
   "metadata": {},
   "outputs": [
    {
     "data": {
      "text/plain": [
       "'Data/results_in_progress_IL_pizza.json'"
      ]
     },
     "execution_count": 6,
     "metadata": {},
     "output_type": "execute_result"
    }
   ],
   "source": [
    "# Specifying JSON_FILE filename (can include a folder)\n",
    "# include the search terms in the filename\n",
    "JSON_FILE = \"Data/results_in_progress_IL_pizza.json\"\n",
    "JSON_FILE\n",
    "\n"
   ]
  },
  {
   "cell_type": "code",
   "execution_count": 7,
   "id": "6d9f6944",
   "metadata": {},
   "outputs": [
    {
     "name": "stdout",
     "output_type": "stream",
     "text": [
      "[i] Data/results_in_progress_IL_pizza.json not found. Saving empty list to file.\n"
     ]
    }
   ],
   "source": [
    "## Check if JSON_FILE exists\n",
    "file_exists = os.path.isfile(JSON_FILE)\n",
    "## If it does not exist: \n",
    "if file_exists == False:\n",
    "    \n",
    "    ## CREATE ANY NEEDED FOLDERS\n",
    "    # Get the Folder Name only\n",
    "    folder = os.path.dirname(JSON_FILE)\n",
    "    ## If JSON_FILE included a folder:\n",
    "    if len(folder)>0:\n",
    "        # create the folder\n",
    "        os.makedirs(folder,exist_ok=True)\n",
    "        \n",
    "        \n",
    "    ## INFORM USER AND SAVE EMPTY LIST\n",
    "    print(f'[i] {JSON_FILE} not found. Saving empty list to file.')\n",
    "    \n",
    "    \n",
    "    # save an empty list\n",
    "    with open(JSON_FILE,'w') as f:\n",
    "        json.dump([],f)  \n",
    "# If it exists, inform user\n",
    "else:\n",
    "    print(f\"[i] {JSON_FILE} already exists.\")\n"
   ]
  },
  {
   "cell_type": "code",
   "execution_count": 8,
   "id": "8951721d",
   "metadata": {},
   "outputs": [
    {
     "name": "stdout",
     "output_type": "stream",
     "text": [
      "- 0 previous results found.\n"
     ]
    }
   ],
   "source": [
    "## Load previous results and use len of results for offset\n",
    "with open(JSON_FILE,'r') as f:\n",
    "    previous_results = json.load(f)\n",
    "    \n",
    "## set offset based on previous results\n",
    "n_results = len(previous_results)\n",
    "print(f'- {n_results} previous results found.')\n",
    "\n"
   ]
  },
  {
   "cell_type": "code",
   "execution_count": 9,
   "id": "ac29935c",
   "metadata": {},
   "outputs": [
    {
     "data": {
      "text/plain": [
       "dict_keys(['businesses', 'total', 'region'])"
      ]
     },
     "execution_count": 9,
     "metadata": {},
     "output_type": "execute_result"
    }
   ],
   "source": [
    "# use our yelp_api variable's search_query method to perform our API call\n",
    "results = yelp_api.search_query(location=LOCATION,\n",
    "                                term=TERM,\n",
    "                               offset=n_results)\n",
    "results.keys()\n",
    "\n"
   ]
  },
  {
   "cell_type": "code",
   "execution_count": 10,
   "id": "4833e30a",
   "metadata": {},
   "outputs": [
    {
     "data": {
      "text/plain": [
       "1800"
      ]
     },
     "execution_count": 10,
     "metadata": {},
     "output_type": "execute_result"
    }
   ],
   "source": [
    "## How many results total?\n",
    "total_results = results['total']\n",
    "total_results"
   ]
  },
  {
   "cell_type": "code",
   "execution_count": 12,
   "id": "d925abb5",
   "metadata": {},
   "outputs": [
    {
     "data": {
      "text/plain": [
       "20"
      ]
     },
     "execution_count": 12,
     "metadata": {},
     "output_type": "execute_result"
    }
   ],
   "source": [
    "## How many did we get the details for?\n",
    "results_per_page = len(results['businesses'])\n",
    "results_per_page\n"
   ]
  },
  {
   "cell_type": "code",
   "execution_count": 13,
   "id": "33969be8",
   "metadata": {},
   "outputs": [
    {
     "data": {
      "text/plain": [
       "90"
      ]
     },
     "execution_count": 13,
     "metadata": {},
     "output_type": "execute_result"
    }
   ],
   "source": [
    "# Import additional packages for controlling our loop\n",
    "import time, math\n",
    "# Use math.ceil to round up for the total number of pages of results.\n",
    "n_pages = math.ceil((results['total']-n_results)/ results_per_page)\n",
    "n_pages"
   ]
  },
  {
   "cell_type": "code",
   "execution_count": 14,
   "id": "b550f48b",
   "metadata": {},
   "outputs": [],
   "source": [
    "# join new results with old list with extend and save to file\n",
    "previous_results.extend(results['businesses'])  \n",
    "with open(JSON_FILE,'w') as f:\n",
    "     json.dump(previous_results,f)\n"
   ]
  },
  {
   "cell_type": "code",
   "execution_count": 15,
   "id": "1ca34f02",
   "metadata": {},
   "outputs": [
    {
     "data": {
      "application/vnd.jupyter.widget-view+json": {
       "model_id": "7cf5d60046844a55b7d92b0fbfbd45bf",
       "version_major": 2,
       "version_minor": 0
      },
      "text/plain": [
       "  0%|          | 0/90 [00:00<?, ?it/s]"
      ]
     },
     "metadata": {},
     "output_type": "display_data"
    }
   ],
   "source": [
    "from tqdm.notebook import tqdm_notebook\n",
    "import time\n",
    "for i in tqdm_notebook(range(n_pages)):\n",
    "    # adds 200 ms pause\n",
    "    time.sleep(.2) \n"
   ]
  },
  {
   "cell_type": "code",
   "execution_count": 22,
   "id": "5c626dc1",
   "metadata": {},
   "outputs": [],
   "source": [
    "def create_json_file(JSON_FILE,  delete_if_exists=False):\n",
    "\n",
    "    ## Check if JSON_FILE exists\n",
    "    file_exists = os.path.isfile(JSON_FILE)\n",
    "\n",
    "# If it DOES exist:\n",
    "    if file_exists == True:\n",
    "\n",
    "#Check if user wants to delete if exists\n",
    "        if delete_if_exists==True:\n",
    "            print(f\"[!] {JSON_FILE} already exists. Deleting previous file...\")\n",
    "            ## delete file and confirm it no longer exits.\n",
    "            os.remove(JSON_FILE)\n",
    "            ## Recursive call to function after old file deleted\n",
    "            create_json_file(JSON_FILE,delete_if_exists=False)\n",
    "        else:\n",
    "            print(f\"[i] {JSON_FILE} already exists.\")\n",
    "\n",
    "    ## If it does NOT exist:\n",
    "    else:\n",
    "        ## INFORM USER AND SAVE EMPTY LIST\n",
    "        print(f\"[i] {JSON_FILE} not found. Saving empty list to new file.\")\n",
    "\n",
    "# CREATE ANY NEEDED FOLDERS\n",
    "# Get the Folder Name only\n",
    "        folder = os.path.dirname(JSON_FILE)\n",
    "\n",
    "# If JSON_FILE included a folder:\n",
    "        if len(folder)>0:\n",
    "            # create the folder\n",
    "            os.makedirs(folder,exist_ok=True)\n",
    "        ## Save empty list to start the json file\n",
    "        with open(JSON_FILE,'w') as f:\n",
    "            json.dump([],f)"
   ]
  },
  {
   "cell_type": "code",
   "execution_count": 23,
   "id": "78a03447",
   "metadata": {},
   "outputs": [
    {
     "name": "stdout",
     "output_type": "stream",
     "text": [
      "[!] Data/results_in_progress_IL_pizza.json already exists. Deleting previous file...\n",
      "[i] Data/results_in_progress_IL_pizza.json not found. Saving empty list to new file.\n",
      "- 0 previous results found.\n"
     ]
    },
    {
     "data": {
      "text/plain": [
       "90"
      ]
     },
     "execution_count": 23,
     "metadata": {},
     "output_type": "execute_result"
    }
   ],
   "source": [
    "## Create a new empty json file (exist the previous if it exists)\n",
    "create_json_file(JSON_FILE, delete_if_exists=True)\n",
    "## Load previous results and use len of results for offset\n",
    "with open(JSON_FILE,'r') as f:\n",
    "    previous_results = json.load(f)\n",
    "    \n",
    "## set offset based on previous results\n",
    "n_results = len(previous_results)\n",
    "print(f'- {n_results} previous results found.')\n",
    "# use our yelp_api variable's search_query method to perform our API call\n",
    "results = yelp_api.search_query(location=LOCATION,\n",
    "                                term=TERM,\n",
    "                               offset=n_results)\n",
    "## How many results total?\n",
    "total_results = results['total']\n",
    "## How many did we get the details for?\n",
    "results_per_page = len(results['businesses'])\n",
    "# Use math.ceil to round up for the total number of pages of results.\n",
    "n_pages = math.ceil((results['total']-n_results)/ results_per_page)\n",
    "n_pages\n"
   ]
  },
  {
   "cell_type": "code",
   "execution_count": 24,
   "id": "1c213659",
   "metadata": {},
   "outputs": [
    {
     "data": {
      "application/vnd.jupyter.widget-view+json": {
       "model_id": "65a227f70d754ac3a829b5161ad71e67",
       "version_major": 2,
       "version_minor": 0
      },
      "text/plain": [
       "  0%|          | 0/90 [00:00<?, ?it/s]"
      ]
     },
     "metadata": {},
     "output_type": "display_data"
    },
    {
     "name": "stdout",
     "output_type": "stream",
     "text": [
      "Exceeded 1000 api calls. Stopping loop.\n"
     ]
    }
   ],
   "source": [
    "for i in tqdm_notebook( range(1,n_pages+1)):\n",
    "    \n",
    "    ## Read in results in progress file and check the length\n",
    "    with open(JSON_FILE, 'r') as f:\n",
    "        previous_results = json.load(f)\n",
    "    ## save number of results for to use as offset\n",
    "    n_results = len(previous_results)\n",
    "    \n",
    "    if (n_results + results_per_page) > 1000:\n",
    "        print('Exceeded 1000 api calls. Stopping loop.')\n",
    "        break\n",
    "    \n",
    "    ## use n_results as the OFFSET \n",
    "    results = yelp_api.search_query(location=LOCATION,\n",
    "                                    term=TERM, \n",
    "                                    offset=n_results)\n",
    "    \n",
    "    \n",
    "    \n",
    "    ## append new results and save to file\n",
    "    previous_results.extend(results['businesses'])\n",
    "    \n",
    "    # display(previous_results)\n",
    "    with open(JSON_FILE,'w') as f:\n",
    "        json.dump(previous_results,f)\n",
    "    \n",
    "    time.sleep(.2)\n"
   ]
  },
  {
   "cell_type": "code",
   "execution_count": 25,
   "id": "4f34816f",
   "metadata": {},
   "outputs": [
    {
     "data": {
      "text/html": [
       "<div>\n",
       "<style scoped>\n",
       "    .dataframe tbody tr th:only-of-type {\n",
       "        vertical-align: middle;\n",
       "    }\n",
       "\n",
       "    .dataframe tbody tr th {\n",
       "        vertical-align: top;\n",
       "    }\n",
       "\n",
       "    .dataframe thead th {\n",
       "        text-align: right;\n",
       "    }\n",
       "</style>\n",
       "<table border=\"1\" class=\"dataframe\">\n",
       "  <thead>\n",
       "    <tr style=\"text-align: right;\">\n",
       "      <th></th>\n",
       "      <th>id</th>\n",
       "      <th>alias</th>\n",
       "      <th>name</th>\n",
       "      <th>image_url</th>\n",
       "      <th>is_closed</th>\n",
       "      <th>url</th>\n",
       "      <th>review_count</th>\n",
       "      <th>categories</th>\n",
       "      <th>rating</th>\n",
       "      <th>coordinates</th>\n",
       "      <th>transactions</th>\n",
       "      <th>price</th>\n",
       "      <th>location</th>\n",
       "      <th>phone</th>\n",
       "      <th>display_phone</th>\n",
       "      <th>distance</th>\n",
       "    </tr>\n",
       "  </thead>\n",
       "  <tbody>\n",
       "    <tr>\n",
       "      <th>0</th>\n",
       "      <td>8vFJH_paXsMocmEO_KAa3w</td>\n",
       "      <td>lou-malnatis-pizzeria-chicago</td>\n",
       "      <td>Lou Malnati's Pizzeria</td>\n",
       "      <td>https://s3-media3.fl.yelpcdn.com/bphoto/FXGmfo...</td>\n",
       "      <td>False</td>\n",
       "      <td>https://www.yelp.com/biz/lou-malnatis-pizzeria...</td>\n",
       "      <td>7077</td>\n",
       "      <td>[{'alias': 'pizza', 'title': 'Pizza'}, {'alias...</td>\n",
       "      <td>4.0</td>\n",
       "      <td>{'latitude': 41.890357, 'longitude': -87.633704}</td>\n",
       "      <td>[delivery, pickup]</td>\n",
       "      <td>$$</td>\n",
       "      <td>{'address1': '439 N Wells St', 'address2': '',...</td>\n",
       "      <td>+13128289800</td>\n",
       "      <td>(312) 828-9800</td>\n",
       "      <td>10366.447105</td>\n",
       "    </tr>\n",
       "    <tr>\n",
       "      <th>1</th>\n",
       "      <td>Bxd9Y2PsdvIOGIKFQh53RQ</td>\n",
       "      <td>giordanos-chicago-30</td>\n",
       "      <td>Giordano's</td>\n",
       "      <td>https://s3-media1.fl.yelpcdn.com/bphoto/OKxuR9...</td>\n",
       "      <td>False</td>\n",
       "      <td>https://www.yelp.com/biz/giordanos-chicago-30?...</td>\n",
       "      <td>3485</td>\n",
       "      <td>[{'alias': 'pizza', 'title': 'Pizza'}, {'alias...</td>\n",
       "      <td>4.0</td>\n",
       "      <td>{'latitude': 41.88513231411071, 'longitude': -...</td>\n",
       "      <td>[delivery]</td>\n",
       "      <td>$$</td>\n",
       "      <td>{'address1': '130 E Randolph St', 'address2': ...</td>\n",
       "      <td>+13126161200</td>\n",
       "      <td>(312) 616-1200</td>\n",
       "      <td>10689.526750</td>\n",
       "    </tr>\n",
       "    <tr>\n",
       "      <th>2</th>\n",
       "      <td>DXwSYgiXqIVNdO9dazel6w</td>\n",
       "      <td>pequods-pizzeria-chicago</td>\n",
       "      <td>Pequod's Pizzeria</td>\n",
       "      <td>https://s3-media1.fl.yelpcdn.com/bphoto/8QJUNb...</td>\n",
       "      <td>False</td>\n",
       "      <td>https://www.yelp.com/biz/pequods-pizzeria-chic...</td>\n",
       "      <td>7524</td>\n",
       "      <td>[{'alias': 'pizza', 'title': 'Pizza'}]</td>\n",
       "      <td>4.0</td>\n",
       "      <td>{'latitude': 41.92187, 'longitude': -87.664486}</td>\n",
       "      <td>[delivery, pickup]</td>\n",
       "      <td>$$</td>\n",
       "      <td>{'address1': '2207 N Clybourn Ave', 'address2'...</td>\n",
       "      <td>+17733271512</td>\n",
       "      <td>(773) 327-1512</td>\n",
       "      <td>11423.025038</td>\n",
       "    </tr>\n",
       "    <tr>\n",
       "      <th>3</th>\n",
       "      <td>LrcRLcCGsSNJjTKKK9UgYw</td>\n",
       "      <td>ciprianis-pizza-chicago</td>\n",
       "      <td>Cipriani's Pizza</td>\n",
       "      <td>https://s3-media3.fl.yelpcdn.com/bphoto/3FtyP5...</td>\n",
       "      <td>False</td>\n",
       "      <td>https://www.yelp.com/biz/ciprianis-pizza-chica...</td>\n",
       "      <td>137</td>\n",
       "      <td>[{'alias': 'pizza', 'title': 'Pizza'}]</td>\n",
       "      <td>4.5</td>\n",
       "      <td>{'latitude': 41.778228, 'longitude': -87.768205}</td>\n",
       "      <td>[delivery]</td>\n",
       "      <td>$$</td>\n",
       "      <td>{'address1': '5840 W 63rd St', 'address2': '',...</td>\n",
       "      <td>+17735823747</td>\n",
       "      <td>(773) 582-3747</td>\n",
       "      <td>6715.230863</td>\n",
       "    </tr>\n",
       "    <tr>\n",
       "      <th>4</th>\n",
       "      <td>cxAkuwv7p4gm4Coixw7h9A</td>\n",
       "      <td>lou-malnatis-pizzeria-chicago-9</td>\n",
       "      <td>Lou Malnati's Pizzeria</td>\n",
       "      <td>https://s3-media2.fl.yelpcdn.com/bphoto/vZVADY...</td>\n",
       "      <td>False</td>\n",
       "      <td>https://www.yelp.com/biz/lou-malnatis-pizzeria...</td>\n",
       "      <td>3003</td>\n",
       "      <td>[{'alias': 'pizza', 'title': 'Pizza'}, {'alias...</td>\n",
       "      <td>4.0</td>\n",
       "      <td>{'latitude': 41.871566, 'longitude': -87.627275}</td>\n",
       "      <td>[delivery, pickup]</td>\n",
       "      <td>$$</td>\n",
       "      <td>{'address1': '805 S State St', 'address2': '',...</td>\n",
       "      <td>+13127861000</td>\n",
       "      <td>(312) 786-1000</td>\n",
       "      <td>9676.008122</td>\n",
       "    </tr>\n",
       "  </tbody>\n",
       "</table>\n",
       "</div>"
      ],
      "text/plain": [
       "                       id                            alias  \\\n",
       "0  8vFJH_paXsMocmEO_KAa3w    lou-malnatis-pizzeria-chicago   \n",
       "1  Bxd9Y2PsdvIOGIKFQh53RQ             giordanos-chicago-30   \n",
       "2  DXwSYgiXqIVNdO9dazel6w         pequods-pizzeria-chicago   \n",
       "3  LrcRLcCGsSNJjTKKK9UgYw          ciprianis-pizza-chicago   \n",
       "4  cxAkuwv7p4gm4Coixw7h9A  lou-malnatis-pizzeria-chicago-9   \n",
       "\n",
       "                     name                                          image_url  \\\n",
       "0  Lou Malnati's Pizzeria  https://s3-media3.fl.yelpcdn.com/bphoto/FXGmfo...   \n",
       "1              Giordano's  https://s3-media1.fl.yelpcdn.com/bphoto/OKxuR9...   \n",
       "2       Pequod's Pizzeria  https://s3-media1.fl.yelpcdn.com/bphoto/8QJUNb...   \n",
       "3        Cipriani's Pizza  https://s3-media3.fl.yelpcdn.com/bphoto/3FtyP5...   \n",
       "4  Lou Malnati's Pizzeria  https://s3-media2.fl.yelpcdn.com/bphoto/vZVADY...   \n",
       "\n",
       "   is_closed                                                url  review_count  \\\n",
       "0      False  https://www.yelp.com/biz/lou-malnatis-pizzeria...          7077   \n",
       "1      False  https://www.yelp.com/biz/giordanos-chicago-30?...          3485   \n",
       "2      False  https://www.yelp.com/biz/pequods-pizzeria-chic...          7524   \n",
       "3      False  https://www.yelp.com/biz/ciprianis-pizza-chica...           137   \n",
       "4      False  https://www.yelp.com/biz/lou-malnatis-pizzeria...          3003   \n",
       "\n",
       "                                          categories  rating  \\\n",
       "0  [{'alias': 'pizza', 'title': 'Pizza'}, {'alias...     4.0   \n",
       "1  [{'alias': 'pizza', 'title': 'Pizza'}, {'alias...     4.0   \n",
       "2             [{'alias': 'pizza', 'title': 'Pizza'}]     4.0   \n",
       "3             [{'alias': 'pizza', 'title': 'Pizza'}]     4.5   \n",
       "4  [{'alias': 'pizza', 'title': 'Pizza'}, {'alias...     4.0   \n",
       "\n",
       "                                         coordinates        transactions  \\\n",
       "0   {'latitude': 41.890357, 'longitude': -87.633704}  [delivery, pickup]   \n",
       "1  {'latitude': 41.88513231411071, 'longitude': -...          [delivery]   \n",
       "2    {'latitude': 41.92187, 'longitude': -87.664486}  [delivery, pickup]   \n",
       "3   {'latitude': 41.778228, 'longitude': -87.768205}          [delivery]   \n",
       "4   {'latitude': 41.871566, 'longitude': -87.627275}  [delivery, pickup]   \n",
       "\n",
       "  price                                           location         phone  \\\n",
       "0    $$  {'address1': '439 N Wells St', 'address2': '',...  +13128289800   \n",
       "1    $$  {'address1': '130 E Randolph St', 'address2': ...  +13126161200   \n",
       "2    $$  {'address1': '2207 N Clybourn Ave', 'address2'...  +17733271512   \n",
       "3    $$  {'address1': '5840 W 63rd St', 'address2': '',...  +17735823747   \n",
       "4    $$  {'address1': '805 S State St', 'address2': '',...  +13127861000   \n",
       "\n",
       "    display_phone      distance  \n",
       "0  (312) 828-9800  10366.447105  \n",
       "1  (312) 616-1200  10689.526750  \n",
       "2  (773) 327-1512  11423.025038  \n",
       "3  (773) 582-3747   6715.230863  \n",
       "4  (312) 786-1000   9676.008122  "
      ]
     },
     "metadata": {},
     "output_type": "display_data"
    },
    {
     "data": {
      "text/html": [
       "<div>\n",
       "<style scoped>\n",
       "    .dataframe tbody tr th:only-of-type {\n",
       "        vertical-align: middle;\n",
       "    }\n",
       "\n",
       "    .dataframe tbody tr th {\n",
       "        vertical-align: top;\n",
       "    }\n",
       "\n",
       "    .dataframe thead th {\n",
       "        text-align: right;\n",
       "    }\n",
       "</style>\n",
       "<table border=\"1\" class=\"dataframe\">\n",
       "  <thead>\n",
       "    <tr style=\"text-align: right;\">\n",
       "      <th></th>\n",
       "      <th>id</th>\n",
       "      <th>alias</th>\n",
       "      <th>name</th>\n",
       "      <th>image_url</th>\n",
       "      <th>is_closed</th>\n",
       "      <th>url</th>\n",
       "      <th>review_count</th>\n",
       "      <th>categories</th>\n",
       "      <th>rating</th>\n",
       "      <th>coordinates</th>\n",
       "      <th>transactions</th>\n",
       "      <th>price</th>\n",
       "      <th>location</th>\n",
       "      <th>phone</th>\n",
       "      <th>display_phone</th>\n",
       "      <th>distance</th>\n",
       "    </tr>\n",
       "  </thead>\n",
       "  <tbody>\n",
       "    <tr>\n",
       "      <th>995</th>\n",
       "      <td>BrKl0XhF3IpCWq34Om_sgg</td>\n",
       "      <td>stefanis-tuscany-café-chicago-3</td>\n",
       "      <td>Stefani's Tuscany Café</td>\n",
       "      <td>https://s3-media4.fl.yelpcdn.com/bphoto/jBEma-...</td>\n",
       "      <td>False</td>\n",
       "      <td>https://www.yelp.com/biz/stefanis-tuscany-caf%...</td>\n",
       "      <td>348</td>\n",
       "      <td>[{'alias': 'italian', 'title': 'Italian'}]</td>\n",
       "      <td>2.5</td>\n",
       "      <td>{'latitude': 41.981285, 'longitude': -87.906054}</td>\n",
       "      <td>[]</td>\n",
       "      <td>$$</td>\n",
       "      <td>{'address1': '10000 Bessie Coleman Dr', 'addre...</td>\n",
       "      <td></td>\n",
       "      <td></td>\n",
       "      <td>22014.557727</td>\n",
       "    </tr>\n",
       "    <tr>\n",
       "      <th>996</th>\n",
       "      <td>gh9MXuna7tDba1arYNjsEA</td>\n",
       "      <td>maggianos-little-italy-oak-brook</td>\n",
       "      <td>Maggiano's Little Italy</td>\n",
       "      <td>https://s3-media1.fl.yelpcdn.com/bphoto/V8KS1a...</td>\n",
       "      <td>False</td>\n",
       "      <td>https://www.yelp.com/biz/maggianos-little-ital...</td>\n",
       "      <td>593</td>\n",
       "      <td>[{'alias': 'italian', 'title': 'Italian'}, {'a...</td>\n",
       "      <td>3.5</td>\n",
       "      <td>{'latitude': 41.8499824105333, 'longitude': -8...</td>\n",
       "      <td>[delivery, pickup]</td>\n",
       "      <td>$$</td>\n",
       "      <td>{'address1': '240 Oakbrook Ctr', 'address2': '...</td>\n",
       "      <td>+16303680300</td>\n",
       "      <td>(630) 368-0300</td>\n",
       "      <td>18318.315880</td>\n",
       "    </tr>\n",
       "    <tr>\n",
       "      <th>997</th>\n",
       "      <td>fESy8pfywnwDqJzKpn5GZw</td>\n",
       "      <td>sarpinos-pizzeria-chicago-452</td>\n",
       "      <td>Sarpino's Pizzeria</td>\n",
       "      <td>https://s3-media1.fl.yelpcdn.com/bphoto/390GS4...</td>\n",
       "      <td>False</td>\n",
       "      <td>https://www.yelp.com/biz/sarpinos-pizzeria-chi...</td>\n",
       "      <td>215</td>\n",
       "      <td>[{'alias': 'pizza', 'title': 'Pizza'}, {'alias...</td>\n",
       "      <td>3.0</td>\n",
       "      <td>{'latitude': 41.9613, 'longitude': -87.66648}</td>\n",
       "      <td>[delivery, pickup]</td>\n",
       "      <td>$$</td>\n",
       "      <td>{'address1': '1435 W Montrose St', 'address2':...</td>\n",
       "      <td>+17732811800</td>\n",
       "      <td>(773) 281-1800</td>\n",
       "      <td>15346.641319</td>\n",
       "    </tr>\n",
       "    <tr>\n",
       "      <th>998</th>\n",
       "      <td>luu-w6z0cHesP8wNXOb36g</td>\n",
       "      <td>mama-ds-pizza-saint-john</td>\n",
       "      <td>Mama D's Pizza</td>\n",
       "      <td>https://s3-media3.fl.yelpcdn.com/bphoto/Vd3oQD...</td>\n",
       "      <td>False</td>\n",
       "      <td>https://www.yelp.com/biz/mama-ds-pizza-saint-j...</td>\n",
       "      <td>22</td>\n",
       "      <td>[{'alias': 'pizza', 'title': 'Pizza'}]</td>\n",
       "      <td>4.0</td>\n",
       "      <td>{'latitude': 41.44724, 'longitude': -87.4695}</td>\n",
       "      <td>[delivery]</td>\n",
       "      <td>$$</td>\n",
       "      <td>{'address1': '9440 Joliet St', 'address2': '',...</td>\n",
       "      <td>+12193658504</td>\n",
       "      <td>(219) 365-8504</td>\n",
       "      <td>47997.920642</td>\n",
       "    </tr>\n",
       "    <tr>\n",
       "      <th>999</th>\n",
       "      <td>DiI2kvTrI_wH3XB6WKFx5A</td>\n",
       "      <td>the-windsor-tavern-and-grill-chicago</td>\n",
       "      <td>The Windsor Tavern and Grill</td>\n",
       "      <td>https://s3-media2.fl.yelpcdn.com/bphoto/TAZEo1...</td>\n",
       "      <td>False</td>\n",
       "      <td>https://www.yelp.com/biz/the-windsor-tavern-an...</td>\n",
       "      <td>92</td>\n",
       "      <td>[{'alias': 'pubs', 'title': 'Pubs'}]</td>\n",
       "      <td>4.0</td>\n",
       "      <td>{'latitude': 41.9631, 'longitude': -87.75703}</td>\n",
       "      <td>[delivery, pickup]</td>\n",
       "      <td>$</td>\n",
       "      <td>{'address1': '4530 N Milwaukee Ave', 'address2...</td>\n",
       "      <td>+17737363400</td>\n",
       "      <td>(773) 736-3400</td>\n",
       "      <td>14738.655116</td>\n",
       "    </tr>\n",
       "  </tbody>\n",
       "</table>\n",
       "</div>"
      ],
      "text/plain": [
       "                         id                                 alias  \\\n",
       "995  BrKl0XhF3IpCWq34Om_sgg       stefanis-tuscany-café-chicago-3   \n",
       "996  gh9MXuna7tDba1arYNjsEA      maggianos-little-italy-oak-brook   \n",
       "997  fESy8pfywnwDqJzKpn5GZw         sarpinos-pizzeria-chicago-452   \n",
       "998  luu-w6z0cHesP8wNXOb36g              mama-ds-pizza-saint-john   \n",
       "999  DiI2kvTrI_wH3XB6WKFx5A  the-windsor-tavern-and-grill-chicago   \n",
       "\n",
       "                             name  \\\n",
       "995        Stefani's Tuscany Café   \n",
       "996       Maggiano's Little Italy   \n",
       "997            Sarpino's Pizzeria   \n",
       "998                Mama D's Pizza   \n",
       "999  The Windsor Tavern and Grill   \n",
       "\n",
       "                                             image_url  is_closed  \\\n",
       "995  https://s3-media4.fl.yelpcdn.com/bphoto/jBEma-...      False   \n",
       "996  https://s3-media1.fl.yelpcdn.com/bphoto/V8KS1a...      False   \n",
       "997  https://s3-media1.fl.yelpcdn.com/bphoto/390GS4...      False   \n",
       "998  https://s3-media3.fl.yelpcdn.com/bphoto/Vd3oQD...      False   \n",
       "999  https://s3-media2.fl.yelpcdn.com/bphoto/TAZEo1...      False   \n",
       "\n",
       "                                                   url  review_count  \\\n",
       "995  https://www.yelp.com/biz/stefanis-tuscany-caf%...           348   \n",
       "996  https://www.yelp.com/biz/maggianos-little-ital...           593   \n",
       "997  https://www.yelp.com/biz/sarpinos-pizzeria-chi...           215   \n",
       "998  https://www.yelp.com/biz/mama-ds-pizza-saint-j...            22   \n",
       "999  https://www.yelp.com/biz/the-windsor-tavern-an...            92   \n",
       "\n",
       "                                            categories  rating  \\\n",
       "995         [{'alias': 'italian', 'title': 'Italian'}]     2.5   \n",
       "996  [{'alias': 'italian', 'title': 'Italian'}, {'a...     3.5   \n",
       "997  [{'alias': 'pizza', 'title': 'Pizza'}, {'alias...     3.0   \n",
       "998             [{'alias': 'pizza', 'title': 'Pizza'}]     4.0   \n",
       "999               [{'alias': 'pubs', 'title': 'Pubs'}]     4.0   \n",
       "\n",
       "                                           coordinates        transactions  \\\n",
       "995   {'latitude': 41.981285, 'longitude': -87.906054}                  []   \n",
       "996  {'latitude': 41.8499824105333, 'longitude': -8...  [delivery, pickup]   \n",
       "997      {'latitude': 41.9613, 'longitude': -87.66648}  [delivery, pickup]   \n",
       "998      {'latitude': 41.44724, 'longitude': -87.4695}          [delivery]   \n",
       "999      {'latitude': 41.9631, 'longitude': -87.75703}  [delivery, pickup]   \n",
       "\n",
       "    price                                           location         phone  \\\n",
       "995    $$  {'address1': '10000 Bessie Coleman Dr', 'addre...                 \n",
       "996    $$  {'address1': '240 Oakbrook Ctr', 'address2': '...  +16303680300   \n",
       "997    $$  {'address1': '1435 W Montrose St', 'address2':...  +17732811800   \n",
       "998    $$  {'address1': '9440 Joliet St', 'address2': '',...  +12193658504   \n",
       "999     $  {'address1': '4530 N Milwaukee Ave', 'address2...  +17737363400   \n",
       "\n",
       "      display_phone      distance  \n",
       "995                  22014.557727  \n",
       "996  (630) 368-0300  18318.315880  \n",
       "997  (773) 281-1800  15346.641319  \n",
       "998  (219) 365-8504  47997.920642  \n",
       "999  (773) 736-3400  14738.655116  "
      ]
     },
     "metadata": {},
     "output_type": "display_data"
    }
   ],
   "source": [
    "# load final results\n",
    "final_df = pd.read_json(JSON_FILE)\n",
    "display(final_df.head(), final_df.tail())\n"
   ]
  },
  {
   "cell_type": "code",
   "execution_count": 27,
   "id": "f42514e9",
   "metadata": {},
   "outputs": [
    {
     "data": {
      "text/plain": [
       "2"
      ]
     },
     "execution_count": 27,
     "metadata": {},
     "output_type": "execute_result"
    }
   ],
   "source": [
    "# check for duplicate ID's \n",
    "final_df.duplicated(subset='id').sum()\n",
    "\n"
   ]
  },
  {
   "cell_type": "code",
   "execution_count": 29,
   "id": "9ad8f72a",
   "metadata": {},
   "outputs": [],
   "source": [
    "final_df = final_df.drop_duplicates(subset=\"id\")"
   ]
  },
  {
   "cell_type": "code",
   "execution_count": 30,
   "id": "91dfa177",
   "metadata": {},
   "outputs": [
    {
     "data": {
      "text/plain": [
       "0"
      ]
     },
     "execution_count": 30,
     "metadata": {},
     "output_type": "execute_result"
    }
   ],
   "source": [
    "# check for duplicate ID's \n",
    "final_df.duplicated(subset='id').sum()\n"
   ]
  },
  {
   "cell_type": "code",
   "execution_count": 31,
   "id": "0081bec4",
   "metadata": {},
   "outputs": [],
   "source": [
    "# save the final results to a compressed csv\n",
    "final_df.to_csv('Data/final_results_CH_deepdishpizza.csv.gz', compression='gzip',index=False)"
   ]
  }
 ],
 "metadata": {
  "kernelspec": {
   "display_name": "Python (dojo-env)",
   "language": "python",
   "name": "dojo-env"
  },
  "language_info": {
   "codemirror_mode": {
    "name": "ipython",
    "version": 3
   },
   "file_extension": ".py",
   "mimetype": "text/x-python",
   "name": "python",
   "nbconvert_exporter": "python",
   "pygments_lexer": "ipython3",
   "version": "3.9.15"
  },
  "toc": {
   "base_numbering": 1,
   "nav_menu": {},
   "number_sections": true,
   "sideBar": true,
   "skip_h1_title": false,
   "title_cell": "Table of Contents",
   "title_sidebar": "Contents",
   "toc_cell": false,
   "toc_position": {},
   "toc_section_display": true,
   "toc_window_display": false
  }
 },
 "nbformat": 4,
 "nbformat_minor": 5
}
